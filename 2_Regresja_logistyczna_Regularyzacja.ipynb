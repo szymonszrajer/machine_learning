{
  "cells": [
    {
      "cell_type": "markdown",
      "metadata": {
        "id": "CN5ZiwFAkodP"
      },
      "source": [
        "<h2> Nauczanie maszynowe/Ćwiczenia2"
      ]
    },
    {
      "cell_type": "code",
      "execution_count": null,
      "metadata": {
        "colab": {
          "base_uri": "https://localhost:8080/"
        },
        "id": "ZMT8BrloyNnZ",
        "outputId": "8293a81d-2bfe-43dc-93ee-185ea29881a7"
      },
      "outputs": [
        {
          "output_type": "stream",
          "name": "stdout",
          "text": [
            ".. _boston_dataset:\n",
            "\n",
            "Boston house prices dataset\n",
            "---------------------------\n",
            "\n",
            "**Data Set Characteristics:**  \n",
            "\n",
            "    :Number of Instances: 506 \n",
            "\n",
            "    :Number of Attributes: 13 numeric/categorical predictive. Median Value (attribute 14) is usually the target.\n",
            "\n",
            "    :Attribute Information (in order):\n",
            "        - CRIM     per capita crime rate by town\n",
            "        - ZN       proportion of residential land zoned for lots over 25,000 sq.ft.\n",
            "        - INDUS    proportion of non-retail business acres per town\n",
            "        - CHAS     Charles River dummy variable (= 1 if tract bounds river; 0 otherwise)\n",
            "        - NOX      nitric oxides concentration (parts per 10 million)\n",
            "        - RM       average number of rooms per dwelling\n",
            "        - AGE      proportion of owner-occupied units built prior to 1940\n",
            "        - DIS      weighted distances to five Boston employment centres\n",
            "        - RAD      index of accessibility to radial highways\n",
            "        - TAX      full-value property-tax rate per $10,000\n",
            "        - PTRATIO  pupil-teacher ratio by town\n",
            "        - B        1000(Bk - 0.63)^2 where Bk is the proportion of black people by town\n",
            "        - LSTAT    % lower status of the population\n",
            "        - MEDV     Median value of owner-occupied homes in $1000's\n",
            "\n",
            "    :Missing Attribute Values: None\n",
            "\n",
            "    :Creator: Harrison, D. and Rubinfeld, D.L.\n",
            "\n",
            "This is a copy of UCI ML housing dataset.\n",
            "https://archive.ics.uci.edu/ml/machine-learning-databases/housing/\n",
            "\n",
            "\n",
            "This dataset was taken from the StatLib library which is maintained at Carnegie Mellon University.\n",
            "\n",
            "The Boston house-price data of Harrison, D. and Rubinfeld, D.L. 'Hedonic\n",
            "prices and the demand for clean air', J. Environ. Economics & Management,\n",
            "vol.5, 81-102, 1978.   Used in Belsley, Kuh & Welsch, 'Regression diagnostics\n",
            "...', Wiley, 1980.   N.B. Various transformations are used in the table on\n",
            "pages 244-261 of the latter.\n",
            "\n",
            "The Boston house-price data has been used in many machine learning papers that address regression\n",
            "problems.   \n",
            "     \n",
            ".. topic:: References\n",
            "\n",
            "   - Belsley, Kuh & Welsch, 'Regression diagnostics: Identifying Influential Data and Sources of Collinearity', Wiley, 1980. 244-261.\n",
            "   - Quinlan,R. (1993). Combining Instance-Based and Model-Based Learning. In Proceedings on the Tenth International Conference of Machine Learning, 236-243, University of Massachusetts, Amherst. Morgan Kaufmann.\n",
            "\n"
          ]
        },
        {
          "output_type": "stream",
          "name": "stderr",
          "text": [
            "/usr/local/lib/python3.7/dist-packages/sklearn/utils/deprecation.py:87: FutureWarning: Function load_boston is deprecated; `load_boston` is deprecated in 1.0 and will be removed in 1.2.\n",
            "\n",
            "    The Boston housing prices dataset has an ethical problem. You can refer to\n",
            "    the documentation of this function for further details.\n",
            "\n",
            "    The scikit-learn maintainers therefore strongly discourage the use of this\n",
            "    dataset unless the purpose of the code is to study and educate about\n",
            "    ethical issues in data science and machine learning.\n",
            "\n",
            "    In this special case, you can fetch the dataset from the original\n",
            "    source::\n",
            "\n",
            "        import pandas as pd\n",
            "        import numpy as np\n",
            "\n",
            "\n",
            "        data_url = \"http://lib.stat.cmu.edu/datasets/boston\"\n",
            "        raw_df = pd.read_csv(data_url, sep=\"\\s+\", skiprows=22, header=None)\n",
            "        data = np.hstack([raw_df.values[::2, :], raw_df.values[1::2, :2]])\n",
            "        target = raw_df.values[1::2, 2]\n",
            "\n",
            "    Alternative datasets include the California housing dataset (i.e.\n",
            "    :func:`~sklearn.datasets.fetch_california_housing`) and the Ames housing\n",
            "    dataset. You can load the datasets as follows::\n",
            "\n",
            "        from sklearn.datasets import fetch_california_housing\n",
            "        housing = fetch_california_housing()\n",
            "\n",
            "    for the California housing dataset and::\n",
            "\n",
            "        from sklearn.datasets import fetch_openml\n",
            "        housing = fetch_openml(name=\"house_prices\", as_frame=True)\n",
            "\n",
            "    for the Ames housing dataset.\n",
            "    \n",
            "  warnings.warn(msg, category=FutureWarning)\n"
          ]
        }
      ],
      "source": [
        "from sklearn.datasets import load_boston\n",
        "boston_data = load_boston()\n",
        "print(boston_data['DESCR']) #opis tych danych (DESCRIPTION)"
      ]
    },
    {
      "cell_type": "code",
      "execution_count": null,
      "metadata": {
        "id": "ey0CWSHWyNnZ"
      },
      "outputs": [],
      "source": [
        "import numpy as np\n",
        "import matplotlib.pyplot as plt"
      ]
    },
    {
      "cell_type": "code",
      "execution_count": null,
      "metadata": {
        "id": "5pzmF93MyNnZ"
      },
      "outputs": [],
      "source": [
        "d = boston_data['data']\n",
        "d2 = d[:, [2,5]] #wyciągamy tylko 2 cechy: INDUS, RM\n",
        "target = boston_data['target']"
      ]
    },
    {
      "cell_type": "markdown",
      "metadata": {
        "id": "uwvKMyH9yNna"
      },
      "source": [
        "Funkcja kosztu mierzy średnią różnicę pomiędzy przewidywaniem a rzeczywistą wartością. Istnieje wiele funkcji tego typu, jedna z najpopularniejszych ma postać:\n",
        "\n",
        "<center>\n",
        "$LF(y,t) = \\frac{1}{2N}\\sum_{i}(y^{i}-t^{i})^2$\n",
        "    \n",
        " \n",
        "\n",
        "W przypadku regresji liniowej 2 zmiennych:\n",
        "    \n",
        "<center>\n",
        "$LF(y,t) = \\frac{1}{2N}\\sum_{i}(w_1x_{1}^{i}+w_2x_{2}^{i}+w_0-t^{i})^2$"
      ]
    },
    {
      "cell_type": "markdown",
      "metadata": {
        "id": "Ag-jK_wkkodS"
      },
      "source": [
        "Zaimplementowałem zadania z poprzednich zajęć w postaci klasy."
      ]
    },
    {
      "cell_type": "code",
      "execution_count": null,
      "metadata": {
        "id": "XW1XE8SZkodS"
      },
      "outputs": [],
      "source": [
        "#Klasa dedykowana regresji liniowej 2 zmiennych\n",
        "\n",
        "class LinearModel2v:\n",
        "    def __init__(self, eta = 0.001, diff = 0.001, w1 = 1, w2 = 1, w0 = 1, maxiter = 10000):\n",
        "        self.eta = eta\n",
        "        self.diff = diff\n",
        "        self.w1 = w1\n",
        "        self.w2 = w2\n",
        "        self.w0 = w0\n",
        "        self.maxiter = maxiter\n",
        "        \n",
        "\n",
        "\n",
        "    def loss_function(self, X, t):\n",
        "        N = len(X)\n",
        "        C = 0\n",
        "        for i in range(N):\n",
        "            C += (X[i][0]*self.w1+X[i][1]*self.w2+self.w0-t[i])**2\n",
        "        return C/(2*N)\n",
        "  \n",
        "    \n",
        "    def update_weights(self, X, t):\n",
        "        N = len(X)\n",
        "        dC1 = 0\n",
        "        dC2 = 0\n",
        "        dC0 = 0\n",
        "        for i in range(N):\n",
        "            y_pred = X[i][0]*self.w1+X[i][1]*self.w2+self.w0\n",
        "            dC1 += 2*X[i][0]*(y_pred-t[i])\n",
        "            dC2 += 2*X[i][1]*(y_pred-t[i])\n",
        "            dC0 += 2*(y_pred-t[i])\n",
        "\n",
        "        self.w1 = self.w1 - self.eta*dC1/(2*N)\n",
        "        self.w2 = self.w2 - self.eta*dC2/(2*N)\n",
        "        self.w0 = self.w0 - self.eta*dC0/(2*N)\n",
        "\n",
        "    def train(self, X, t):\n",
        "        l = []\n",
        "        ile = 0\n",
        "        while True:\n",
        "            l.append(self.loss_function(X, t))\n",
        "            self.update_weights(X, t)\n",
        "            ile += 1\n",
        "            if len(l)>2:\n",
        "                if abs(l[-1]-l[-2])/l[-1] <  self.diff or ile > self.maxiter:\n",
        "                    break"
      ]
    },
    {
      "cell_type": "markdown",
      "metadata": {
        "id": "LIe2Pb2ekodT"
      },
      "source": [
        "Zobaczmy jak to działa na jakimś konkretnym przykładzie"
      ]
    },
    {
      "cell_type": "code",
      "execution_count": null,
      "metadata": {
        "id": "wHOpoANskodT"
      },
      "outputs": [],
      "source": [
        "X = np.array([[1,4],[5,6],[2,2],[6,7],[9,-4],[-2,-3],[-5,1]])\n",
        "y = np.dot(X, [3, -4])+5  #y=3x1-4x2+5"
      ]
    },
    {
      "cell_type": "code",
      "execution_count": null,
      "metadata": {
        "id": "vluSPC16kodT"
      },
      "outputs": [],
      "source": [
        "model = LinearModel2v()\n",
        "model.train(X, y)"
      ]
    },
    {
      "cell_type": "code",
      "execution_count": null,
      "metadata": {
        "id": "fZg5ZpQKkodT",
        "outputId": "9bf2274d-a2c5-4a29-ba8c-2ce73138e84f",
        "colab": {
          "base_uri": "https://localhost:8080/"
        }
      },
      "outputs": [
        {
          "output_type": "execute_result",
          "data": {
            "text/plain": [
              "(3.000309260729557,\n",
              " -3.999675320045806,\n",
              " 4.99577829150021,\n",
              " 6.215829033587025e-06)"
            ]
          },
          "metadata": {},
          "execution_count": 7
        }
      ],
      "source": [
        "model.w1, model.w2, model.w0, model.loss_function(X, y)"
      ]
    },
    {
      "cell_type": "markdown",
      "metadata": {
        "id": "J631Yrn7kodU"
      },
      "source": [
        "<h3> Regresja wielomianowa"
      ]
    },
    {
      "cell_type": "code",
      "execution_count": null,
      "metadata": {
        "id": "3EA72-dIkodU"
      },
      "outputs": [],
      "source": [
        "from sklearn.preprocessing import PolynomialFeatures\n",
        "from sklearn.linear_model import LinearRegression\n",
        "from sklearn.pipeline import make_pipeline\n",
        "\n",
        "def PolynomialRegression(degree=2, **kwargs):\n",
        "    return make_pipeline(PolynomialFeatures(degree), LinearRegression(**kwargs))"
      ]
    },
    {
      "cell_type": "code",
      "execution_count": null,
      "metadata": {
        "id": "Z9mYakXOkodV",
        "outputId": "ecc65b59-05c2-40a3-8075-918da17f765e",
        "colab": {
          "base_uri": "https://localhost:8080/",
          "height": 265
        }
      },
      "outputs": [
        {
          "output_type": "display_data",
          "data": {
            "text/plain": [
              "<Figure size 432x288 with 1 Axes>"
            ],
            "image/png": "[encoded data removed]"
          },
          "metadata": {
            "needs_background": "light"
          }
        }
      ],
      "source": [
        "rng = np.random.RandomState(1)\n",
        "x = np.linspace(-1, 1, 40)\n",
        "y = 3*x**3 - 4*x**2 + 6*x - 3 + 5*np.sin(5*x) + rng.randn(40)\n",
        "\n",
        "plt.scatter(x,y)\n",
        "plt.show()"
      ]
    },
    {
      "cell_type": "code",
      "execution_count": null,
      "metadata": {
        "id": "oyOSUVjwkodV",
        "outputId": "a6afa9b5-3a0f-4c42-af32-0b9ee769c847",
        "colab": {
          "base_uri": "https://localhost:8080/",
          "height": 265
        }
      },
      "outputs": [
        {
          "output_type": "display_data",
          "data": {
            "text/plain": [
              "<Figure size 432x288 with 1 Axes>"
            ],
            "image/png": "[encoded data removed]"
          },
          "metadata": {
            "needs_background": "light"
          }
        }
      ],
      "source": [
        "plt.scatter(x,y)\n",
        "\n",
        "for d in [1, 2, 3, 5, 12]:\n",
        "    y_pred = PolynomialRegression(d).fit(x[:, np.newaxis], y).predict(x[:, np.newaxis])\n",
        "    plt.plot(x, y_pred, label = f\"degree = {d}\")\n",
        "    \n",
        "plt.legend(loc = \"best\")\n",
        "plt.show()"
      ]
    },
    {
      "cell_type": "code",
      "execution_count": null,
      "metadata": {
        "id": "unN0-w7dkodV",
        "outputId": "a14f9ff0-a4b4-403d-950c-22be8fefb370",
        "colab": {
          "base_uri": "https://localhost:8080/",
          "height": 265
        }
      },
      "outputs": [
        {
          "output_type": "display_data",
          "data": {
            "text/plain": [
              "<Figure size 432x288 with 1 Axes>"
            ],
            "image/png": "[encoded data removed]"
          },
          "metadata": {
            "needs_background": "light"
          }
        }
      ],
      "source": [
        "#a jak to jest na większym przedziale?\n",
        "plt.scatter(x,y)\n",
        "\n",
        "for d in [1, 2, 3, 5, 12]:\n",
        "    y_pred = PolynomialRegression(d).fit(x[:, np.newaxis], y).predict(np.linspace(-1.1,1.1,100)[:, np.newaxis])\n",
        "    plt.plot(np.linspace(-1.1,1.1,100), y_pred, label = f\"degree = {d}\")\n",
        "    \n",
        "plt.legend(loc = \"best\")\n",
        "plt.show()"
      ]
    },
    {
      "cell_type": "markdown",
      "metadata": {
        "id": "D21Wq3uvkodV"
      },
      "source": [
        "Wniosek: Przy zbyt wysokim stopniu zastosowanego wielomianu możemy mieć problem z generalizacją - następuje przeuczenie (overfitting).\n"
      ]
    },
    {
      "cell_type": "markdown",
      "metadata": {
        "id": "DFjk45YgkodW"
      },
      "source": [
        "Z wielomianami związany jest też inny problem - efekt Rungego"
      ]
    },
    {
      "cell_type": "markdown",
      "metadata": {
        "id": "U7JHzmUtkodW"
      },
      "source": [
        "<h3> Regularyzacja"
      ]
    },
    {
      "cell_type": "markdown",
      "metadata": {
        "id": "DCwi5vs2kodW"
      },
      "source": [
        "Wprowadzenie szerszej klasy funkcji bazowych jak i ilości parametrów może bardzo szybko prowadzić do zjawiska overfittingu (przetrenowania). Jak sobie z tym poradzić? Na przykład, wprowadzając pewne dodatkowe obciążenie do funkcji kosztu zależne od współczynników:\n",
        "\n",
        "- Regularyzacja L2 (Ridge Regression): $LF^{+} = \\alpha \\sum_i w_{i}^{2}$ \n",
        "\n",
        "- Regularyzacja L1 (Lasso Regression): $LF^{+} = \\alpha \\sum_i |w_{i}|$\n",
        "\n",
        "tzn. $LF_{new} = LF + LF^{+}$."
      ]
    },
    {
      "cell_type": "markdown",
      "metadata": {
        "id": "hS0cREIvkodW"
      },
      "source": [
        "<h4> Zadanie1: Zdefiniuj klasę implementującą regresję liniową z regularyzacją L1/L2 dla dowolnej liczby zmiennych."
      ]
    },
    {
      "cell_type": "code",
      "source": [
        "#Klasa dedykowana regresji liniowej 2 zmiennych\n",
        "\n",
        "class LinearModel2v_s:\n",
        "    def __init__(self, eta = 0.001, diff = 0.001, w1 = 1, w2 = 1, w0 = 1, maxiter = 10000, alpha = 0.5):\n",
        "        self.eta = eta\n",
        "        self.diff = diff\n",
        "        self.alpha = alpha\n",
        "        self.w1 = w1\n",
        "        self.w2 = w2\n",
        "        self.w0 = w0\n",
        "        self.maxiter = maxiter\n",
        "        \n",
        "    def loss_function(self, X, t, regularization = 1):\n",
        "        loss = 0\n",
        "        ix = 0\n",
        "\n",
        "        if regularization == 1: # LASSO\n",
        "          norm = sum([abs(weight) for weight in [self.w1, self.w2, self.w0]])\n",
        "\n",
        "        elif regularization == 2: # RIDGE\n",
        "          norm = sum([weight**2 for weight in [self.w1, self.w2, self.w0]])\n",
        "\n",
        "        for x in X :\n",
        "          loss += (self.w1 * x[0] + self.w2 * x[1] + self.w0 - t[ix])**2 \n",
        "          ix += 1\n",
        "      \n",
        "        return loss / (2 * len(t)) + self.alpha * norm\n",
        "\n",
        "\n",
        "    def update_weights(self, X, t):\n",
        "      weights = [0, 0, 0]\n",
        "      length = len(t)\n",
        "\n",
        "      ix = 0\n",
        "      for x in X :\n",
        "        common = 2 * (self.w1 * x[0] + self.w2 * x[1] + self.w0 - t[ix])\n",
        "        weights[0] += x[0] * common\n",
        "        weights[1] += x[1] * common\n",
        "        weights[2] += common\n",
        "        ix += 1\n",
        "\n",
        "      self.w1 = self.w1 - self.eta*weights[0]/(2*length)\n",
        "      self.w2 = self.w2 - self.eta*weights[1]/(2*length)\n",
        "      self.w0 = self.w0 - self.eta*weights[2]/(2*length)\n",
        "\n",
        "    def train(self, X, t):\n",
        "        lf = []\n",
        "        iter = 0\n",
        "        while True:\n",
        "            lf.append(self.loss_function(X, t))\n",
        "            self.update_weights(X, t)\n",
        "            iter += 1\n",
        "            if len(lf)>2:\n",
        "                if abs(lf[-1]-lf[-2])/lf[-1] <  self.diff or iter > self.maxiter:\n",
        "                    break\n",
        "\n"
      ],
      "metadata": {
        "id": "PZqppbTUziqk"
      },
      "execution_count": null,
      "outputs": []
    },
    {
      "cell_type": "code",
      "source": [
        "model = LinearModel2v_s(w1 = 3, w2 = 8, w0 = -1)\n",
        "model.train(d2, target)\n"
      ],
      "metadata": {
        "id": "DjduKEPoV-Uc"
      },
      "execution_count": null,
      "outputs": []
    },
    {
      "cell_type": "markdown",
      "metadata": {
        "id": "vChbAZNCkodW"
      },
      "source": [
        "<h4> Zadanie2: Wybierz dowolny zbiór danych lub wygeneruj syntetyczne dane. Zastosuj model regresji liniowej z regularyzacją $L1$. Na podstawie zbioru walidacyjnego wybierz optymalne parametry $\\eta$ oraz $\\alpha$ (rozważ chociaż 15-20 różnych kombinacji)."
      ]
    },
    {
      "cell_type": "code",
      "source": [
        "from sklearn.model_selection import train_test_split\n",
        "\n",
        "X_train, X_test, y_train, y_test = train_test_split(d2, target, test_size=0.4, random_state=42)\n",
        "X2_validate, X2_test, y2_validate, y2_test = train_test_split(X_test, y_test, test_size=0.5, random_state=42)\n"
      ],
      "metadata": {
        "id": "VZEzvJZJzmAI"
      },
      "execution_count": null,
      "outputs": []
    },
    {
      "cell_type": "code",
      "source": [
        "model = LinearModel2v_s(eta = 0.001, alpha = 0.001)\n",
        "model.train(X2_validate, y2_validate)\n",
        "model.loss_function(X_train,y_train)"
      ],
      "metadata": {
        "id": "UCzZqDZFcpco",
        "outputId": "6a5896f3-f2cb-4e07-94e7-0e8bc78937f7",
        "colab": {
          "base_uri": "https://localhost:8080/"
        }
      },
      "execution_count": null,
      "outputs": [
        {
          "output_type": "execute_result",
          "data": {
            "text/plain": [
              "25.434262082752497"
            ]
          },
          "metadata": {},
          "execution_count": 260
        }
      ]
    },
    {
      "cell_type": "code",
      "source": [
        "model = LinearModel2v_s(eta = 0.01, alpha = 0.01)\n",
        "model.train(X2_validate, y2_validate)\n",
        "model.loss_function(X_train,y_train)"
      ],
      "metadata": {
        "id": "qYHp-vcRdPWn",
        "outputId": "5728e61c-ec75-4881-deee-6e245646dcfc",
        "colab": {
          "base_uri": "https://localhost:8080/"
        }
      },
      "execution_count": null,
      "outputs": [
        {
          "output_type": "execute_result",
          "data": {
            "text/plain": [
              "25.424782554629317"
            ]
          },
          "metadata": {},
          "execution_count": 261
        }
      ]
    },
    {
      "cell_type": "code",
      "source": [
        "model = LinearModel2v_s(eta = 0.001, alpha = 0.01)\n",
        "model.train(X2_validate, y2_validate)\n",
        "model.loss_function(X_train,y_train)"
      ],
      "metadata": {
        "id": "qk5XQAKvdRIJ",
        "outputId": "d0a47048-c981-4731-d310-504f0d5dbd51",
        "colab": {
          "base_uri": "https://localhost:8080/"
        }
      },
      "execution_count": null,
      "outputs": [
        {
          "output_type": "execute_result",
          "data": {
            "text/plain": [
              "25.50655054170027"
            ]
          },
          "metadata": {},
          "execution_count": 151
        }
      ]
    },
    {
      "cell_type": "code",
      "source": [
        "model = LinearModel2v_s(eta = 0.001, alpha = 1)\n",
        "model.train(X2_validate, y2_validate)\n",
        "model.loss_function(X_train,y_train)"
      ],
      "metadata": {
        "id": "faU_xqiLdRK_",
        "outputId": "4eb4c8d9-5c52-48ef-a23d-f9dbc428f1b4",
        "colab": {
          "base_uri": "https://localhost:8080/"
        }
      },
      "execution_count": null,
      "outputs": [
        {
          "output_type": "execute_result",
          "data": {
            "text/plain": [
              "31.768480896901067"
            ]
          },
          "metadata": {},
          "execution_count": 152
        }
      ]
    },
    {
      "cell_type": "code",
      "source": [
        "model = LinearModel2v_s(eta = 0.001, alpha = 5)\n",
        "model.train(X2_validate, y2_validate)\n",
        "model.loss_function(X_train,y_train)"
      ],
      "metadata": {
        "id": "WqRJJawodRNW",
        "outputId": "50c3815a-a3eb-41b7-8360-7ef95ccb8754",
        "colab": {
          "base_uri": "https://localhost:8080/"
        }
      },
      "execution_count": null,
      "outputs": [
        {
          "output_type": "execute_result",
          "data": {
            "text/plain": [
              "55.34350722346852"
            ]
          },
          "metadata": {},
          "execution_count": 153
        }
      ]
    },
    {
      "cell_type": "code",
      "source": [
        "model = LinearModel2v_s(eta = 0.0001, alpha = 5)\n",
        "model.train(X2_validate, y2_validate)\n",
        "model.loss_function(X_train,y_train)"
      ],
      "metadata": {
        "id": "huYERMgidRP8",
        "outputId": "48c96533-6af4-42e7-be35-ba9d012ddab7",
        "colab": {
          "base_uri": "https://localhost:8080/"
        }
      },
      "execution_count": null,
      "outputs": [
        {
          "output_type": "execute_result",
          "data": {
            "text/plain": [
              "97.4857132206197"
            ]
          },
          "metadata": {},
          "execution_count": 154
        }
      ]
    },
    {
      "cell_type": "code",
      "source": [
        "model = LinearModel2v_s(eta = 0.00065, alpha = 5)\n",
        "model.train(X2_validate, y2_validate)\n",
        "model.loss_function(X_train,y_train)"
      ],
      "metadata": {
        "id": "O5gh8uXHdRSV",
        "outputId": "8581f0a9-7651-4283-89b8-454406b93443",
        "colab": {
          "base_uri": "https://localhost:8080/"
        }
      },
      "execution_count": null,
      "outputs": [
        {
          "output_type": "execute_result",
          "data": {
            "text/plain": [
              "56.557659194781316"
            ]
          },
          "metadata": {},
          "execution_count": 155
        }
      ]
    },
    {
      "cell_type": "code",
      "source": [
        "model = LinearModel2v_s(eta = 0.00065, alpha = 1)\n",
        "model.train(X2_validate, y2_validate)\n",
        "model.loss_function(X_train,y_train)"
      ],
      "metadata": {
        "id": "IqDIRUFMdRU6",
        "outputId": "edb0ad60-4c9a-41ce-809a-6f5dc20dc8e4",
        "colab": {
          "base_uri": "https://localhost:8080/"
        }
      },
      "execution_count": null,
      "outputs": [
        {
          "output_type": "execute_result",
          "data": {
            "text/plain": [
              "32.585299349629494"
            ]
          },
          "metadata": {},
          "execution_count": 156
        }
      ]
    },
    {
      "cell_type": "code",
      "source": [
        "model = LinearModel2v_s(eta = 0.00075, alpha = 0.25)\n",
        "model.train(X2_validate, y2_validate)\n",
        "model.loss_function(X_train,y_train)"
      ],
      "metadata": {
        "id": "n3w6-cVNdRaJ",
        "outputId": "e38bbf16-0390-44c3-c814-8996a3c54116",
        "colab": {
          "base_uri": "https://localhost:8080/"
        }
      },
      "execution_count": null,
      "outputs": [
        {
          "output_type": "execute_result",
          "data": {
            "text/plain": [
              "27.45881650730766"
            ]
          },
          "metadata": {},
          "execution_count": 157
        }
      ]
    },
    {
      "cell_type": "code",
      "source": [
        "model = LinearModel2v_s(eta = 0.00095, alpha = 0.25)\n",
        "model.train(X2_validate, y2_validate)\n",
        "model.loss_function(X_train,y_train)"
      ],
      "metadata": {
        "id": "0ATEIMP3dRc-",
        "outputId": "1decd13e-fb40-4f02-e1d2-16c3f0d4d383",
        "colab": {
          "base_uri": "https://localhost:8080/"
        }
      },
      "execution_count": null,
      "outputs": [
        {
          "output_type": "execute_result",
          "data": {
            "text/plain": [
              "27.08844803314181"
            ]
          },
          "metadata": {},
          "execution_count": 158
        }
      ]
    },
    {
      "cell_type": "code",
      "source": [
        "model = LinearModel2v_s(eta = 0.002, alpha = 0.25)\n",
        "model.train(X2_validate, y2_validate)\n",
        "model.loss_function(X_train,y_train)"
      ],
      "metadata": {
        "id": "fAhxorWvdRf3",
        "outputId": "89ae800d-ff1c-4f72-c6aa-9fddbb95ec90",
        "colab": {
          "base_uri": "https://localhost:8080/"
        }
      },
      "execution_count": null,
      "outputs": [
        {
          "output_type": "execute_result",
          "data": {
            "text/plain": [
              "26.401635449942653"
            ]
          },
          "metadata": {},
          "execution_count": 159
        }
      ]
    },
    {
      "cell_type": "code",
      "source": [
        "model = LinearModel2v_s(eta = 0.003, alpha = 0.25)\n",
        "model.train(X2_validate, y2_validate)\n",
        "model.loss_function(X_train,y_train)"
      ],
      "metadata": {
        "id": "FSHu7vbbdRib",
        "outputId": "e33bd32d-f2d7-4d99-fffc-fbd5daf21a89",
        "colab": {
          "base_uri": "https://localhost:8080/"
        }
      },
      "execution_count": null,
      "outputs": [
        {
          "output_type": "execute_result",
          "data": {
            "text/plain": [
              "26.20958099932908"
            ]
          },
          "metadata": {},
          "execution_count": 160
        }
      ]
    },
    {
      "cell_type": "code",
      "source": [
        "model = LinearModel2v_s(eta = 0.005, alpha = 0.25)\n",
        "model.train(X2_validate, y2_validate)\n",
        "model.loss_function(X_train,y_train)"
      ],
      "metadata": {
        "id": "Sezaiul8dRlC",
        "outputId": "bb066b16-502d-4e7b-8fe8-b1cb8575108a",
        "colab": {
          "base_uri": "https://localhost:8080/"
        }
      },
      "execution_count": null,
      "outputs": [
        {
          "output_type": "execute_result",
          "data": {
            "text/plain": [
              "26.056300266059086"
            ]
          },
          "metadata": {},
          "execution_count": 161
        }
      ]
    },
    {
      "cell_type": "code",
      "source": [
        "model = LinearModel2v_s(eta = 0.0075, alpha = 0.25)\n",
        "model.train(X2_validate, y2_validate)\n",
        "model.loss_function(X_train,y_train)"
      ],
      "metadata": {
        "id": "2F8WuicsdRn8",
        "outputId": "e1ce8ca7-afca-4bd1-acc2-406aca943586",
        "colab": {
          "base_uri": "https://localhost:8080/"
        }
      },
      "execution_count": null,
      "outputs": [
        {
          "output_type": "execute_result",
          "data": {
            "text/plain": [
              "25.979531026110433"
            ]
          },
          "metadata": {},
          "execution_count": 162
        }
      ]
    },
    {
      "cell_type": "code",
      "source": [
        "model = LinearModel2v_s(eta = 0.0075, alpha = 0.15)\n",
        "model.train(X2_validate, y2_validate)\n",
        "model.loss_function(X_train,y_train)"
      ],
      "metadata": {
        "id": "g3gz-2SNdRqh",
        "outputId": "71890425-8752-40f4-f1c0-2fea2433483d",
        "colab": {
          "base_uri": "https://localhost:8080/"
        }
      },
      "execution_count": null,
      "outputs": [
        {
          "output_type": "execute_result",
          "data": {
            "text/plain": [
              "25.35797814492551"
            ]
          },
          "metadata": {},
          "execution_count": 163
        }
      ]
    },
    {
      "cell_type": "code",
      "source": [
        "model = LinearModel2v_s(eta = 0.0075, alpha = 0.20)\n",
        "model.train(X2_validate, y2_validate)\n",
        "model.loss_function(X_train,y_train)"
      ],
      "metadata": {
        "id": "FI34kVjAdRs5",
        "outputId": "096dddce-46a9-42d4-8815-a58d612c2b97",
        "colab": {
          "base_uri": "https://localhost:8080/"
        }
      },
      "execution_count": null,
      "outputs": [
        {
          "output_type": "execute_result",
          "data": {
            "text/plain": [
              "25.660150832300182"
            ]
          },
          "metadata": {},
          "execution_count": 164
        }
      ]
    },
    {
      "cell_type": "code",
      "source": [
        "model = LinearModel2v_s(eta = 0.0075, alpha = 0.1)\n",
        "model.train(X2_validate, y2_validate)\n",
        "model.loss_function(X_train,y_train)"
      ],
      "metadata": {
        "id": "l0NYFKhBdRve",
        "outputId": "a574de92-5728-45af-80d7-ff499ab96357",
        "colab": {
          "base_uri": "https://localhost:8080/"
        }
      },
      "execution_count": null,
      "outputs": [
        {
          "output_type": "execute_result",
          "data": {
            "text/plain": [
              "25.039032156426014"
            ]
          },
          "metadata": {},
          "execution_count": 165
        }
      ]
    },
    {
      "cell_type": "code",
      "source": [
        "model = LinearModel2v_s(eta = 0.0075, alpha = 0.01)\n",
        "model.train(X2_validate, y2_validate)\n",
        "model.loss_function(X_train,y_train)"
      ],
      "metadata": {
        "id": "Q8OReJdodRyO",
        "outputId": "d0af760a-8340-4d6b-f4bd-0d7affa53d79",
        "colab": {
          "base_uri": "https://localhost:8080/"
        }
      },
      "execution_count": null,
      "outputs": [
        {
          "output_type": "execute_result",
          "data": {
            "text/plain": [
              "24.49382074037928"
            ]
          },
          "metadata": {},
          "execution_count": 166
        }
      ]
    },
    {
      "cell_type": "code",
      "source": [
        "model = LinearModel2v_s(eta = 0.006, alpha = 0.001)\n",
        "model.train(X2_validate, y2_validate)\n",
        "model.loss_function(X_train,y_train)"
      ],
      "metadata": {
        "id": "f0N8AXSfdR1u",
        "outputId": "a167bcde-3123-4cf5-93c2-32b07718b2d7",
        "colab": {
          "base_uri": "https://localhost:8080/"
        }
      },
      "execution_count": null,
      "outputs": [
        {
          "output_type": "execute_result",
          "data": {
            "text/plain": [
              "24.47676253582798"
            ]
          },
          "metadata": {},
          "execution_count": 167
        }
      ]
    },
    {
      "cell_type": "code",
      "source": [
        "model = LinearModel2v_s(eta = 0.0075, alpha = 0.005)\n",
        "model.train(X2_validate, y2_validate)\n",
        "model.loss_function(X_train,y_train)"
      ],
      "metadata": {
        "id": "sDch9eEpdXnz",
        "outputId": "290884a2-f901-462d-c728-869b3483d0c7",
        "colab": {
          "base_uri": "https://localhost:8080/"
        }
      },
      "execution_count": null,
      "outputs": [
        {
          "output_type": "execute_result",
          "data": {
            "text/plain": [
              "24.463531217265576"
            ]
          },
          "metadata": {},
          "execution_count": 168
        }
      ]
    },
    {
      "cell_type": "code",
      "source": [
        "model = LinearModel2v_s(eta = 0.0075, alpha = 0.005)\n",
        "model.train(X_train, y_train)\n",
        "model.loss_function(X2_test, y2_test)"
      ],
      "metadata": {
        "id": "FT2e7GUF4LFu",
        "outputId": "72867df6-6780-4baf-cc9b-365eca31853f",
        "colab": {
          "base_uri": "https://localhost:8080/"
        }
      },
      "execution_count": null,
      "outputs": [
        {
          "output_type": "execute_result",
          "data": {
            "text/plain": [
              "21.967603260306934"
            ]
          },
          "metadata": {},
          "execution_count": 169
        }
      ]
    },
    {
      "cell_type": "markdown",
      "metadata": {
        "id": "WSdxu3RfkodW"
      },
      "source": [
        "<h3> Regresja logistyczna"
      ]
    },
    {
      "cell_type": "markdown",
      "metadata": {
        "id": "huGrviA_kodW"
      },
      "source": [
        "Rozważamy zmienną losową $Y$ przyjmującą tylko dwie wartości, tzn. $ Y \\in \\lbrace 0, 1 \\rbrace$. Załóżmy dodatkowo, że $p = P(Y=1)$ (wtedy $1-p = P(Y=0)$). Będziemy chcieli zamodelować $p$ w oparciu o pewne cechy $X_1,..,X_n$. Jako, że $p \\in (0,1)$, to $\\frac{p}{1-p} \\in (0,\\infty)$ i dalej $\\log(\\frac{p}{1-p}) \\in (-\\infty, \\infty)$. Tę ostatnią wartość będziemy przybliżać za pomocą modelu regresji liniowej, tzn:\n",
        "<br>\n",
        "\n",
        "<center>\n",
        "    $\\log(\\frac{p}{1-p}) = X_1w_1+X_2w_2+...+X_nw_n+X_0$\n",
        "    \n",
        "Przekształcając powyższe równanie otrzymujemy, że $p = \\frac{1}{1+e^{-(X_1w_1+X_2w_2+...+X_nw_n+X_0)}}$\n",
        "    \n",
        "Funkcja kosztu zdefiniowana nie jest jest już różnicą pomiędzy przewidywaną wartością a przewidywaniem modelu. Czemu? Tym razem stosujemy entropię krzyżową. $LF = -\\frac{1}{N}\\sum_i (y_i \\log(p(X_{1}^{i},..,X_{n}^{i}))+(1-y_i) \\log(1-p(X_{1}^{i},..,X_{n}^{i})))$.\n",
        "    \n",
        "Regularyzacja $L_2$ w przypadku regresji logistycznej. $LF = -\\frac{1}{N}\\sum_i (y_i \\log(p(X_{1}^{i},..,X_{n}^{i}))+(1-y_i) \\log(1-p(X_{1}^{i},..,X_{n}^{i}))) + \\alpha||w||^2$. Analogicznie w przypadku $L_1$\n",
        "    \n",
        "W przypadku regresji logistycznej częściej posługujemy się parameterem $C = \\frac{1}{\\alpha}$. Jeżeli $C$ małe, to silna regularyzacja, "
      ]
    },
    {
      "cell_type": "code",
      "execution_count": null,
      "metadata": {
        "id": "xa2lWTjgkodX"
      },
      "outputs": [],
      "source": [
        "from sklearn import linear_model\n",
        "\n",
        "model = linear_model.LogisticRegression()\n",
        "\n",
        "X = np.array([[1,2],[2,3],[4,5],[1,-4],[5,-7],[-3,-1]])\n",
        "y  = np.array([0, 0, 0, 1, 1, 1])\n",
        "\n",
        "model.fit(X,y);"
      ]
    },
    {
      "cell_type": "code",
      "execution_count": null,
      "metadata": {
        "id": "wOeIcEaqkodX",
        "outputId": "c1b06e08-4627-4f92-8507-d8983b3751e2",
        "colab": {
          "base_uri": "https://localhost:8080/"
        }
      },
      "outputs": [
        {
          "output_type": "execute_result",
          "data": {
            "text/plain": [
              "(array([[-0.39682866, -0.82497163]]), array([0.11932619]))"
            ]
          },
          "metadata": {},
          "execution_count": 37
        }
      ],
      "source": [
        "model.coef_, model.intercept_ #parametry modelu"
      ]
    },
    {
      "cell_type": "code",
      "execution_count": null,
      "metadata": {
        "id": "79XdXbnmkodX",
        "outputId": "4903d9d0-ae3b-422d-c6d5-28e57dea17d9",
        "colab": {
          "base_uri": "https://localhost:8080/"
        }
      },
      "outputs": [
        {
          "output_type": "execute_result",
          "data": {
            "text/plain": [
              "(array([0]), array([[0.97197068, 0.02802932]]))"
            ]
          },
          "metadata": {},
          "execution_count": 38
        }
      ],
      "source": [
        "model.predict([[3,3]]), model.predict_proba([[3,3]]) #predykcja klasy oraz odpowiednie prawdopodobienstwa"
      ]
    },
    {
      "cell_type": "markdown",
      "metadata": {
        "id": "JNPhLzfNkodX"
      },
      "source": [
        "<h4> Zadanie3: Uzasadnij powyższe wartości prawdopodobieństw w oparciu o parametry modelu."
      ]
    },
    {
      "cell_type": "markdown",
      "source": [
        "Powyższe wartości prawdopodobieństw wskazują na ok. 97% szansy, że [3,3] należy do klasy 0 oraz na ok 3% prawdopodobieństwo, że [3,3] należy do klasy 1. Wagi pierwszego [1,2,4,1,5,-3] i drugiego [2,3,5,-4,-7,-1] predyktora to odpowiednio -0.39683 oraz -0.82497. 0.12 - intercept podanego modelu to \"stronniczość\" dodana do modelu w trakcie dopasowywania."
      ],
      "metadata": {
        "id": "xdrPMJgB5GO3"
      }
    },
    {
      "cell_type": "markdown",
      "metadata": {
        "id": "YUVIrh_EkodX"
      },
      "source": [
        "<h4> Zadanie*: Zaimplementuj klasę dla regresji logistycznej (wraz z regularyzacją $L_1$ oraz $L_2$)."
      ]
    },
    {
      "cell_type": "code",
      "source": [
        "#Klasa dedykowana regresji logistycznej\n",
        "\n",
        "class LoReModel2v_s:\n",
        "    def __init__(self, eta = 0.001, diff = 0.001, w1 = 1.0, w2 = 1.0, w0 = 1.0, maxiter = 10000, alpha = 0.005):\n",
        "        self.eta = eta\n",
        "        self.diff = diff\n",
        "        self.alpha = alpha\n",
        "        self.w1 = w1\n",
        "        self.w2 = w2\n",
        "        self.w0 = w0\n",
        "        self.maxiter = maxiter\n",
        "        \n",
        "    def probs(self, X):\n",
        "        weights = np.array([self.w1, self.w2])\n",
        "        prob = (1 / (1 + np.exp(-(np.dot(X, weights) + self.w0))))\n",
        "        return prob\n",
        "\n",
        "    def loss_function(self, X, t, regularization = 1):\n",
        "        if regularization == 1: # LASSO\n",
        "          norm = sum([abs(weight) for weight in [self.w1, self.w2, self.w0]])\n",
        "        elif regularization == 2: # RIDGE\n",
        "          norm = sum([weight**2 for weight in [self.w1, self.w2, self.w0]])\n",
        "\n",
        "        ix = 0\n",
        "        for x in X:\n",
        "         loss += t[ix] * np.log(self.probs(x)) \\\n",
        "                + (1 - t[ix]) * np.log(1 - self.probs(x))\n",
        "         ix +=1 \n",
        "\n",
        "        return -loss / (len(t)) + self.alpha * norm\n",
        "\n",
        "\n",
        "    def update_weights(self, X, t):\n",
        "      length = len(t)\n",
        " \n",
        "      w1w2 = (1/length) * np.dot(X.T, self.probs(X) - t)\n",
        "      w0   = (1/length) * np.sum((self.probs(X) - t))\n",
        "\n",
        "\n",
        "      self.w1 = self.w1 - self.eta * w1w2[0]\n",
        "      self.w2 = self.w2 - self.eta * w1w2[1]\n",
        "      self.w0 = self.w0 - self.eta * w0\n",
        "\n",
        "    def predict(self, X):\n",
        "      probabs = self.probs(X)\n",
        "      class_x = [1 if probabs >= 0.5 else 0]\n",
        "      return class_x\n",
        "\n",
        "\n",
        "\n",
        "    def train(self, X, t):\n",
        "        lf = []\n",
        "        iter = 0\n",
        "        while True:\n",
        "            lf.append(self.loss_function(X, t))\n",
        "            self.update_weights(X, t)\n",
        "            iter += 1\n",
        "            if len(lf)>2:\n",
        "                if abs(lf[-1]-lf[-2])/lf[-1] <  self.diff or iter > self.maxiter:\n",
        "                    break\n"
      ],
      "metadata": {
        "id": "VBGpBgWT0R7C"
      },
      "execution_count": null,
      "outputs": []
    },
    {
      "cell_type": "code",
      "source": [
        "model = LoReModel2v_s()\n",
        "model.train(X, y)\n",
        "\n",
        "\n",
        "model.loss_function(X, y)\n",
        "\n"
      ],
      "metadata": {
        "id": "qxoU6A7y3917",
        "outputId": "1ff91575-8d56-4148-a9aa-9f74291ff72e",
        "colab": {
          "base_uri": "https://localhost:8080/"
        }
      },
      "execution_count": null,
      "outputs": [
        {
          "output_type": "execute_result",
          "data": {
            "text/plain": [
              "0.04590748691683299"
            ]
          },
          "metadata": {},
          "execution_count": 262
        }
      ]
    },
    {
      "cell_type": "code",
      "source": [
        "model.predict([3,3])"
      ],
      "metadata": {
        "id": "0UkMSqd6M5NI",
        "outputId": "d2174cbd-fa3d-436a-a7e8-471e869ef199",
        "colab": {
          "base_uri": "https://localhost:8080/"
        }
      },
      "execution_count": null,
      "outputs": [
        {
          "output_type": "execute_result",
          "data": {
            "text/plain": [
              "[0]"
            ]
          },
          "metadata": {},
          "execution_count": 263
        }
      ]
    },
    {
      "cell_type": "markdown",
      "metadata": {
        "id": "xdFe3XfikodX"
      },
      "source": [
        "<h3> Regresja logistyczna wieloklasowa"
      ]
    },
    {
      "cell_type": "markdown",
      "metadata": {
        "id": "qqtDKr9TkodX"
      },
      "source": [
        "W tym przypadku stosujemy prawdpodobieństwa SoftMax, tzn $P(X=i) = \\frac{e^{z_i}}{\\sum_j e^{z_j}}$"
      ]
    },
    {
      "cell_type": "code",
      "execution_count": null,
      "metadata": {
        "id": "62Lfc_mTkodY",
        "outputId": "62bf87b3-8c19-45b0-c5bc-6c3348eb1a09",
        "colab": {
          "base_uri": "https://localhost:8080/"
        }
      },
      "outputs": [
        {
          "output_type": "stream",
          "name": "stdout",
          "text": [
            "(1000, 10) (1000,)\n",
            "Counter({1: 334, 2: 334, 0: 332})\n"
          ]
        }
      ],
      "source": [
        "from collections import Counter\n",
        "from sklearn.datasets import make_classification\n",
        "\n",
        "X, y = make_classification(n_samples=1000, n_features=10, n_informative=5, n_redundant=5, n_classes=3, random_state=1) #generuje sobie dane\n",
        "\n",
        "print(X.shape, y.shape)\n",
        "print(Counter(y))"
      ]
    },
    {
      "cell_type": "code",
      "execution_count": null,
      "metadata": {
        "id": "NRHztNIRkodY"
      },
      "outputs": [],
      "source": [
        "from sklearn.linear_model import LogisticRegression\n",
        "\n",
        "model = LogisticRegression(multi_class='multinomial', solver='lbfgs')\n",
        "model.fit(X, y);"
      ]
    },
    {
      "cell_type": "code",
      "execution_count": null,
      "metadata": {
        "id": "1GHAN4YokodY",
        "outputId": "73213ffc-3062-4a67-a639-7d2e474f0a0d",
        "colab": {
          "base_uri": "https://localhost:8080/"
        }
      },
      "outputs": [
        {
          "output_type": "stream",
          "name": "stdout",
          "text": [
            "[[ 0.01577681 -0.05318977  0.21160694  0.14655186 -0.24476592 -0.00318551\n",
            "  -0.20914917 -0.26505038 -0.02765106  0.26778537]\n",
            " [ 0.20327639  0.0990516  -0.39851296 -0.1045002   0.02344135 -0.06340171\n",
            "   0.19494493  0.54495946 -0.18417782 -0.2844254 ]\n",
            " [-0.2190532  -0.04586183  0.18690602 -0.04205165  0.22132456  0.06658722\n",
            "   0.01420424 -0.27990908  0.21182888  0.01664003]]\n"
          ]
        }
      ],
      "source": [
        "print(model.coef_) #parametry modelu"
      ]
    },
    {
      "cell_type": "code",
      "source": [
        "print(model.intercept_) #parametry modelu"
      ],
      "metadata": {
        "id": "n04zdHHX-3ry",
        "outputId": "bd24706e-5a79-4a04-b949-f9542ff18829",
        "colab": {
          "base_uri": "https://localhost:8080/"
        }
      },
      "execution_count": null,
      "outputs": [
        {
          "output_type": "stream",
          "name": "stdout",
          "text": [
            "[ 0.0294703  -0.26754233  0.23807203]\n"
          ]
        }
      ]
    },
    {
      "cell_type": "code",
      "execution_count": null,
      "metadata": {
        "id": "ikvMvj75kodY",
        "outputId": "15c86304-4366-4c63-e999-a8f6fa11cb2f",
        "colab": {
          "base_uri": "https://localhost:8080/"
        }
      },
      "outputs": [
        {
          "output_type": "stream",
          "name": "stdout",
          "text": [
            "Przewidziana klasa: 1\n"
          ]
        }
      ],
      "source": [
        "#nowa obserwacja\n",
        "row = [1.89149379, -0.39847585, 1.63856893, 0.01647165, 1.51892395, -3.52651223, 1.80998823, 0.58810926, -0.02542177, -0.52835426]\n",
        "#przewiduje jej klasę\n",
        "yhat = model.predict([row])\n",
        "print(f'Przewidziana klasa: {yhat[0]}')"
      ]
    },
    {
      "cell_type": "code",
      "execution_count": null,
      "metadata": {
        "id": "Pc1LAcgVkodY",
        "outputId": "fe2a6e3e-4e0b-4ec1-a66b-9ebe2a438997",
        "colab": {
          "base_uri": "https://localhost:8080/"
        }
      },
      "outputs": [
        {
          "output_type": "stream",
          "name": "stdout",
          "text": [
            "Przewidziane prawdopodobieństwa: [0.16470456 0.50297138 0.33232406]\n"
          ]
        }
      ],
      "source": [
        "#przewiduje prawdopodobienstwa\n",
        "yhat = model.predict_proba([row])\n",
        "print(f'Przewidziane prawdopodobieństwa: {yhat[0]}')"
      ]
    },
    {
      "cell_type": "markdown",
      "metadata": {
        "id": "VCLFFEn4kodY"
      },
      "source": [
        "<h4> Zadanie4: Wyznacz powyższe prawdopodobieństwa ręcznie na podstawie parametrów modelu."
      ]
    },
    {
      "cell_type": "code",
      "source": [
        "def softmax (input) : \n",
        "  return np.exp(input) / np.sum(np.exp(input))"
      ],
      "metadata": {
        "id": "EkjLkCpb2nO-"
      },
      "execution_count": null,
      "outputs": []
    },
    {
      "cell_type": "code",
      "source": [
        "row = np.array(row)\n",
        "input_function = []"
      ],
      "metadata": {
        "id": "oAcEFDyBm-Xh"
      },
      "execution_count": null,
      "outputs": []
    },
    {
      "cell_type": "code",
      "source": [
        "for x in range(3):\n",
        "  input_function.append(np.dot(model.coef_[x],row) + model.intercept_[x])"
      ],
      "metadata": {
        "id": "ibtEZa5Rmv8r"
      },
      "execution_count": null,
      "outputs": []
    },
    {
      "cell_type": "code",
      "source": [
        "softmax_prob = softmax(input_function)\n",
        "softmax_prob"
      ],
      "metadata": {
        "id": "s-cv1jV5mwC3",
        "outputId": "0f9c23ca-9351-4216-d971-8a9931cbef55",
        "colab": {
          "base_uri": "https://localhost:8080/"
        }
      },
      "execution_count": null,
      "outputs": [
        {
          "output_type": "execute_result",
          "data": {
            "text/plain": [
              "array([0.16470456, 0.50297138, 0.33232406])"
            ]
          },
          "metadata": {},
          "execution_count": 136
        }
      ]
    },
    {
      "cell_type": "markdown",
      "metadata": {
        "id": "mEYvcVUgkodY"
      },
      "source": [
        "Przykład praktyczny"
      ]
    },
    {
      "cell_type": "code",
      "execution_count": null,
      "metadata": {
        "id": "G1HGwpOQkodY",
        "outputId": "0aad36eb-23fe-41df-836c-111fb30c7338",
        "colab": {
          "base_uri": "https://localhost:8080/",
          "height": 305
        }
      },
      "outputs": [
        {
          "output_type": "execute_result",
          "data": {
            "text/plain": [
              "   Class label  Alcohol  Malic acid   Ash  Alcalinity of ash  Magnesium  \\\n",
              "0            1    13.20        1.78  2.14               11.2        100   \n",
              "1            1    13.16        2.36  2.67               18.6        101   \n",
              "2            1    14.37        1.95  2.50               16.8        113   \n",
              "3            1    13.24        2.59  2.87               21.0        118   \n",
              "4            1    14.20        1.76  2.45               15.2        112   \n",
              "\n",
              "   Total phenols  Flavanolds  Nonflavanoid phenols  Proanthocyanins  \\\n",
              "0           2.65        2.76                  0.26             1.28   \n",
              "1           2.80        3.24                  0.30             2.81   \n",
              "2           3.85        3.49                  0.24             2.18   \n",
              "3           2.80        2.69                  0.39             1.82   \n",
              "4           3.27        3.39                  0.34             1.97   \n",
              "\n",
              "   Color intensity   Hue  OD280/OD315 of diluted wines  Proline  \n",
              "0             4.38  1.05                          3.40     1050  \n",
              "1             5.68  1.03                          3.17     1185  \n",
              "2             7.80  0.86                          3.45     1480  \n",
              "3             4.32  1.04                          2.93      735  \n",
              "4             6.75  1.05                          2.85     1450  "
            ],
            "text/html": [
              "\n",
              "  <div id=\"df-a2fc0ac2-8ba4-425c-a893-5c2dbaddf03a\">\n",
              "    <div class=\"colab-df-container\">\n",
              "      <div>\n",
              "<style scoped>\n",
              "    .dataframe tbody tr th:only-of-type {\n",
              "        vertical-align: middle;\n",
              "    }\n",
              "\n",
              "    .dataframe tbody tr th {\n",
              "        vertical-align: top;\n",
              "    }\n",
              "\n",
              "    .dataframe thead th {\n",
              "        text-align: right;\n",
              "    }\n",
              "</style>\n",
              "<table border=\"1\" class=\"dataframe\">\n",
              "  <thead>\n",
              "    <tr style=\"text-align: right;\">\n",
              "      <th></th>\n",
              "      <th>Class label</th>\n",
              "      <th>Alcohol</th>\n",
              "      <th>Malic acid</th>\n",
              "      <th>Ash</th>\n",
              "      <th>Alcalinity of ash</th>\n",
              "      <th>Magnesium</th>\n",
              "      <th>Total phenols</th>\n",
              "      <th>Flavanolds</th>\n",
              "      <th>Nonflavanoid phenols</th>\n",
              "      <th>Proanthocyanins</th>\n",
              "      <th>Color intensity</th>\n",
              "      <th>Hue</th>\n",
              "      <th>OD280/OD315 of diluted wines</th>\n",
              "      <th>Proline</th>\n",
              "    </tr>\n",
              "  </thead>\n",
              "  <tbody>\n",
              "    <tr>\n",
              "      <th>0</th>\n",
              "      <td>1</td>\n",
              "      <td>13.20</td>\n",
              "      <td>1.78</td>\n",
              "      <td>2.14</td>\n",
              "      <td>11.2</td>\n",
              "      <td>100</td>\n",
              "      <td>2.65</td>\n",
              "      <td>2.76</td>\n",
              "      <td>0.26</td>\n",
              "      <td>1.28</td>\n",
              "      <td>4.38</td>\n",
              "      <td>1.05</td>\n",
              "      <td>3.40</td>\n",
              "      <td>1050</td>\n",
              "    </tr>\n",
              "    <tr>\n",
              "      <th>1</th>\n",
              "      <td>1</td>\n",
              "      <td>13.16</td>\n",
              "      <td>2.36</td>\n",
              "      <td>2.67</td>\n",
              "      <td>18.6</td>\n",
              "      <td>101</td>\n",
              "      <td>2.80</td>\n",
              "      <td>3.24</td>\n",
              "      <td>0.30</td>\n",
              "      <td>2.81</td>\n",
              "      <td>5.68</td>\n",
              "      <td>1.03</td>\n",
              "      <td>3.17</td>\n",
              "      <td>1185</td>\n",
              "    </tr>\n",
              "    <tr>\n",
              "      <th>2</th>\n",
              "      <td>1</td>\n",
              "      <td>14.37</td>\n",
              "      <td>1.95</td>\n",
              "      <td>2.50</td>\n",
              "      <td>16.8</td>\n",
              "      <td>113</td>\n",
              "      <td>3.85</td>\n",
              "      <td>3.49</td>\n",
              "      <td>0.24</td>\n",
              "      <td>2.18</td>\n",
              "      <td>7.80</td>\n",
              "      <td>0.86</td>\n",
              "      <td>3.45</td>\n",
              "      <td>1480</td>\n",
              "    </tr>\n",
              "    <tr>\n",
              "      <th>3</th>\n",
              "      <td>1</td>\n",
              "      <td>13.24</td>\n",
              "      <td>2.59</td>\n",
              "      <td>2.87</td>\n",
              "      <td>21.0</td>\n",
              "      <td>118</td>\n",
              "      <td>2.80</td>\n",
              "      <td>2.69</td>\n",
              "      <td>0.39</td>\n",
              "      <td>1.82</td>\n",
              "      <td>4.32</td>\n",
              "      <td>1.04</td>\n",
              "      <td>2.93</td>\n",
              "      <td>735</td>\n",
              "    </tr>\n",
              "    <tr>\n",
              "      <th>4</th>\n",
              "      <td>1</td>\n",
              "      <td>14.20</td>\n",
              "      <td>1.76</td>\n",
              "      <td>2.45</td>\n",
              "      <td>15.2</td>\n",
              "      <td>112</td>\n",
              "      <td>3.27</td>\n",
              "      <td>3.39</td>\n",
              "      <td>0.34</td>\n",
              "      <td>1.97</td>\n",
              "      <td>6.75</td>\n",
              "      <td>1.05</td>\n",
              "      <td>2.85</td>\n",
              "      <td>1450</td>\n",
              "    </tr>\n",
              "  </tbody>\n",
              "</table>\n",
              "</div>\n",
              "      <button class=\"colab-df-convert\" onclick=\"convertToInteractive('df-a2fc0ac2-8ba4-425c-a893-5c2dbaddf03a')\"\n",
              "              title=\"Convert this dataframe to an interactive table.\"\n",
              "              style=\"display:none;\">\n",
              "        \n",
              "  <svg xmlns=\"http://www.w3.org/2000/svg\" height=\"24px\"viewBox=\"0 0 24 24\"\n",
              "       width=\"24px\">\n",
              "    <path d=\"M0 0h24v24H0V0z\" fill=\"none\"/>\n",
              "    <path d=\"M18.56 5.44l.94 2.06.94-2.06 2.06-.94-2.06-.94-.94-2.06-.94 2.06-2.06.94zm-11 1L8.5 8.5l.94-2.06 2.06-.94-2.06-.94L8.5 2.5l-.94 2.06-2.06.94zm10 10l.94 2.06.94-2.06 2.06-.94-2.06-.94-.94-2.06-.94 2.06-2.06.94z\"/><path d=\"M17.41 7.96l-1.37-1.37c-.4-.4-.92-.59-1.43-.59-.52 0-1.04.2-1.43.59L10.3 9.45l-7.72 7.72c-.78.78-.78 2.05 0 2.83L4 21.41c.39.39.9.59 1.41.59.51 0 1.02-.2 1.41-.59l7.78-7.78 2.81-2.81c.8-.78.8-2.07 0-2.86zM5.41 20L4 18.59l7.72-7.72 1.47 1.35L5.41 20z\"/>\n",
              "  </svg>\n",
              "      </button>\n",
              "      \n",
              "  <style>\n",
              "    .colab-df-container {\n",
              "      display:flex;\n",
              "      flex-wrap:wrap;\n",
              "      gap: 12px;\n",
              "    }\n",
              "\n",
              "    .colab-df-convert {\n",
              "      background-color: #E8F0FE;\n",
              "      border: none;\n",
              "      border-radius: 50%;\n",
              "      cursor: pointer;\n",
              "      display: none;\n",
              "      fill: #1967D2;\n",
              "      height: 32px;\n",
              "      padding: 0 0 0 0;\n",
              "      width: 32px;\n",
              "    }\n",
              "\n",
              "    .colab-df-convert:hover {\n",
              "      background-color: #E2EBFA;\n",
              "      box-shadow: 0px 1px 2px rgba(60, 64, 67, 0.3), 0px 1px 3px 1px rgba(60, 64, 67, 0.15);\n",
              "      fill: #174EA6;\n",
              "    }\n",
              "\n",
              "    [theme=dark] .colab-df-convert {\n",
              "      background-color: #3B4455;\n",
              "      fill: #D2E3FC;\n",
              "    }\n",
              "\n",
              "    [theme=dark] .colab-df-convert:hover {\n",
              "      background-color: #434B5C;\n",
              "      box-shadow: 0px 1px 3px 1px rgba(0, 0, 0, 0.15);\n",
              "      filter: drop-shadow(0px 1px 2px rgba(0, 0, 0, 0.3));\n",
              "      fill: #FFFFFF;\n",
              "    }\n",
              "  </style>\n",
              "\n",
              "      <script>\n",
              "        const buttonEl =\n",
              "          document.querySelector('#df-a2fc0ac2-8ba4-425c-a893-5c2dbaddf03a button.colab-df-convert');\n",
              "        buttonEl.style.display =\n",
              "          google.colab.kernel.accessAllowed ? 'block' : 'none';\n",
              "\n",
              "        async function convertToInteractive(key) {\n",
              "          const element = document.querySelector('#df-a2fc0ac2-8ba4-425c-a893-5c2dbaddf03a');\n",
              "          const dataTable =\n",
              "            await google.colab.kernel.invokeFunction('convertToInteractive',\n",
              "                                                     [key], {});\n",
              "          if (!dataTable) return;\n",
              "\n",
              "          const docLinkHtml = 'Like what you see? Visit the ' +\n",
              "            '<a target=\"_blank\" href=https://colab.research.google.com/notebooks/data_table.ipynb>data table notebook</a>'\n",
              "            + ' to learn more about interactive tables.';\n",
              "          element.innerHTML = '';\n",
              "          dataTable['output_type'] = 'display_data';\n",
              "          await google.colab.output.renderOutput(dataTable, element);\n",
              "          const docLink = document.createElement('div');\n",
              "          docLink.innerHTML = docLinkHtml;\n",
              "          element.appendChild(docLink);\n",
              "        }\n",
              "      </script>\n",
              "    </div>\n",
              "  </div>\n",
              "  "
            ]
          },
          "metadata": {},
          "execution_count": 135
        }
      ],
      "source": [
        "import pandas as pd \n",
        "\n",
        "#dane i opis danych: https://archive.ics.uci.edu/ml/datasets/Wine\n",
        "df_wine = pd.read_csv('/content/wine.data')\n",
        "df_wine.columns = ['Class label', 'Alcohol', 'Malic acid', 'Ash', \n",
        "                   'Alcalinity of ash', 'Magnesium', 'Total phenols', 'Flavanolds', \n",
        "                   'Nonflavanoid phenols', 'Proanthocyanins', 'Color intensity', \n",
        "                   'Hue', 'OD280/OD315 of diluted wines', 'Proline']\n",
        "df_wine.head()"
      ]
    },
    {
      "cell_type": "code",
      "execution_count": null,
      "metadata": {
        "id": "kswQerDFkodZ",
        "outputId": "5bfe50ab-a3c6-4471-ec28-856b49e1c908",
        "colab": {
          "base_uri": "https://localhost:8080/"
        }
      },
      "outputs": [
        {
          "output_type": "stream",
          "name": "stdout",
          "text": [
            "Kategorie:  [1 2 3]\n"
          ]
        }
      ],
      "source": [
        "print('Kategorie: ', np.unique(df_wine['Class label']))"
      ]
    },
    {
      "cell_type": "code",
      "execution_count": null,
      "metadata": {
        "id": "PKBq2ZIlkodZ"
      },
      "outputs": [],
      "source": [
        "from sklearn.model_selection import train_test_split\n",
        "from sklearn.preprocessing import StandardScaler"
      ]
    },
    {
      "cell_type": "code",
      "execution_count": null,
      "metadata": {
        "id": "aaUf9BKkkodZ",
        "outputId": "33ce7e67-439e-471c-da5f-017dfe8a51d5",
        "colab": {
          "base_uri": "https://localhost:8080/"
        }
      },
      "outputs": [
        {
          "output_type": "execute_result",
          "data": {
            "text/plain": [
              "array([1, 1, 1, 1, 1, 1, 1, 1, 1, 1, 1, 1, 1, 1, 1, 1, 1, 1, 1, 1, 1, 1,\n",
              "       1, 1, 1, 1, 1, 1, 1, 1, 1, 1, 1, 1, 1, 1, 1, 1, 1, 1, 1, 1, 1, 1,\n",
              "       1, 1, 1, 1, 1, 1, 1, 1, 1, 1, 1, 1, 1, 1, 2, 2, 2, 2, 2, 2, 2, 2,\n",
              "       2, 2, 2, 2, 2, 2, 2, 2, 2, 2, 2, 2, 2, 2, 2, 2, 2, 2, 2, 2, 2, 2,\n",
              "       2, 2, 2, 2, 2, 2, 2, 2, 2, 2, 2, 2, 2, 2, 2, 2, 2, 2, 2, 2, 2, 2,\n",
              "       2, 2, 2, 2, 2, 2, 2, 2, 2, 2, 2, 2, 2, 2, 2, 2, 2, 2, 2, 3, 3, 3,\n",
              "       3, 3, 3, 3, 3, 3, 3, 3, 3, 3, 3, 3, 3, 3, 3, 3, 3, 3, 3, 3, 3, 3,\n",
              "       3, 3, 3, 3, 3, 3, 3, 3, 3, 3, 3, 3, 3, 3, 3, 3, 3, 3, 3, 3, 3, 3,\n",
              "       3])"
            ]
          },
          "metadata": {},
          "execution_count": 140
        }
      ],
      "source": [
        "X, y = df_wine.iloc[:, 1:].values, df_wine.iloc[:, 0].values\n",
        "X_train, X_test, y_train, y_test = train_test_split(X, y, test_size=0.3, random_state=0)\n"
      ]
    },
    {
      "cell_type": "code",
      "execution_count": null,
      "metadata": {
        "id": "xOjBkxFykodZ"
      },
      "outputs": [],
      "source": [
        "stdsc = StandardScaler()\n",
        "X_train_std = stdsc.fit_transform(X_train)\n",
        "X_test_std = stdsc.transform(X_test)"
      ]
    },
    {
      "cell_type": "code",
      "execution_count": null,
      "metadata": {
        "id": "WyWJNbiWkodZ",
        "outputId": "4af459e0-e8c2-4c9d-e1b9-96515f71cffa",
        "colab": {
          "base_uri": "https://localhost:8080/"
        }
      },
      "outputs": [
        {
          "output_type": "stream",
          "name": "stdout",
          "text": [
            "Dokladnosc na zbiorze treningowym: 0.991869918699187\n",
            "Dokladnosc na zbiorze testowym: 1.0\n"
          ]
        }
      ],
      "source": [
        "lr1 = LogisticRegression(penalty='l2', C=0.1)\n",
        "lr1.fit(X_train_std, y_train)\n",
        "\n",
        "print('Dokladnosc na zbiorze treningowym:', lr1.score(X_train_std, y_train))\n",
        "print('Dokladnosc na zbiorze testowym:', lr1.score(X_test_std, y_test))"
      ]
    },
    {
      "cell_type": "code",
      "execution_count": null,
      "metadata": {
        "id": "mZVfDL9CkodZ"
      },
      "outputs": [],
      "source": [
        "weights, params = [], []\n",
        "for c in np.arange(-4, 6):\n",
        "    lr = LogisticRegression(penalty='l2', C=10.**c, random_state=0)\n",
        "    lr.fit(X_train_std, y_train)\n",
        "    weights.append(lr.coef_[1])\n",
        "    params.append(10.**c)\n",
        "    \n",
        "weights = np.array(weights)"
      ]
    },
    {
      "cell_type": "code",
      "execution_count": null,
      "metadata": {
        "id": "D0TD6HhDkodZ",
        "outputId": "756644aa-409b-4e6d-9278-df1aaad3a689",
        "colab": {
          "base_uri": "https://localhost:8080/",
          "height": 397
        }
      },
      "outputs": [
        {
          "output_type": "display_data",
          "data": {
            "text/plain": [
              "<Figure size 576x432 with 1 Axes>"
            ],
            "image/png": "[encoded data removed]"
          },
          "metadata": {
            "needs_background": "light"
          }
        }
      ],
      "source": [
        "fig = plt.figure(figsize=(8, 6))\n",
        "ax = plt.subplot(111)\n",
        "colors = ['blue', 'green', 'red', 'cyan', 'magenta', 'yellow', 'black', \n",
        "          'pink', 'lightgreen', 'lightblue', 'gray', 'indigo', 'orange']\n",
        "\n",
        "for column, color in zip(range(weights.shape[1]), colors):\n",
        "    plt.plot( params, \n",
        "              weights[:, column], \n",
        "              label=df_wine.columns[column+1],\n",
        "              color=color)\n",
        "    \n",
        "plt.axhline(0, color='black', linestyle='--', linewidth=3)\n",
        "plt.xlim([10**(-5), 10**5])\n",
        "plt.ylabel('weight coefficient')\n",
        "plt.xlabel('C')\n",
        "plt.xscale('log')\n",
        "plt.legend(loc='upper left')\n",
        "ax.legend(loc='upper center',\n",
        "          bbox_to_anchor=(1.38, 1.03),\n",
        "          ncol=1, \n",
        "          fancybox=True)\n",
        "plt.show()"
      ]
    },
    {
      "cell_type": "markdown",
      "metadata": {
        "id": "ZUwr_E36koda"
      },
      "source": [
        "<h4> Zadanie5: Wyjaśnij powyższy wykres? Co oznacza to rozgałęzienie?"
      ]
    },
    {
      "cell_type": "markdown",
      "source": [
        "Parametr C jest odwrotnie proporcjonalny do siły regularyzacji. Zmniejszając parametr C, zwiększamy regularyzację, a zatem wielkość współczynników wag maleje. Gdy regularyzacja maleje - parametr C jest większy, współczynniki wag mogą być za duże.\n",
        "\n",
        "\n"
      ],
      "metadata": {
        "id": "gVIn2weK1U5S"
      }
    }
  ],
  "metadata": {
    "kernelspec": {
      "display_name": "Python 3",
      "language": "python",
      "name": "python3"
    },
    "language_info": {
      "codemirror_mode": {
        "name": "ipython",
        "version": 3
      },
      "file_extension": ".py",
      "mimetype": "text/x-python",
      "name": "python",
      "nbconvert_exporter": "python",
      "pygments_lexer": "ipython3",
      "version": "3.8.5"
    },
    "colab": {
      "provenance": []
    }
  },
  "nbformat": 4,
  "nbformat_minor": 0
}
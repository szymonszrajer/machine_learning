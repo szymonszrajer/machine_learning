{
  "cells": [
    {
      "cell_type": "markdown",
      "metadata": {
        "id": "dLU2DviyyNnW"
      },
      "source": [
        "<h2> Nauczanie maszynowe/Ćwiczenia1"
      ]
    },
    {
      "cell_type": "code",
      "execution_count": 115,
      "metadata": {
        "id": "ey0CWSHWyNnZ"
      },
      "outputs": [],
      "source": [
        "import numpy as np\n",
        "import matplotlib.pyplot as plt"
      ]
    },
    {
      "cell_type": "code",
      "execution_count": 116,
      "metadata": {
        "id": "ZMT8BrloyNnZ",
        "outputId": "87fb382a-095b-4dd1-e68f-42a1954d320c",
        "colab": {
          "base_uri": "https://localhost:8080/"
        }
      },
      "outputs": [
        {
          "output_type": "stream",
          "name": "stdout",
          "text": [
            ".. _boston_dataset:\n",
            "\n",
            "Boston house prices dataset\n",
            "---------------------------\n",
            "\n",
            "**Data Set Characteristics:**  \n",
            "\n",
            "    :Number of Instances: 506 \n",
            "\n",
            "    :Number of Attributes: 13 numeric/categorical predictive. Median Value (attribute 14) is usually the target.\n",
            "\n",
            "    :Attribute Information (in order):\n",
            "        - CRIM     per capita crime rate by town\n",
            "        - ZN       proportion of residential land zoned for lots over 25,000 sq.ft.\n",
            "        - INDUS    proportion of non-retail business acres per town\n",
            "        - CHAS     Charles River dummy variable (= 1 if tract bounds river; 0 otherwise)\n",
            "        - NOX      nitric oxides concentration (parts per 10 million)\n",
            "        - RM       average number of rooms per dwelling\n",
            "        - AGE      proportion of owner-occupied units built prior to 1940\n",
            "        - DIS      weighted distances to five Boston employment centres\n",
            "        - RAD      index of accessibility to radial highways\n",
            "        - TAX      full-value property-tax rate per $10,000\n",
            "        - PTRATIO  pupil-teacher ratio by town\n",
            "        - B        1000(Bk - 0.63)^2 where Bk is the proportion of black people by town\n",
            "        - LSTAT    % lower status of the population\n",
            "        - MEDV     Median value of owner-occupied homes in $1000's\n",
            "\n",
            "    :Missing Attribute Values: None\n",
            "\n",
            "    :Creator: Harrison, D. and Rubinfeld, D.L.\n",
            "\n",
            "This is a copy of UCI ML housing dataset.\n",
            "https://archive.ics.uci.edu/ml/machine-learning-databases/housing/\n",
            "\n",
            "\n",
            "This dataset was taken from the StatLib library which is maintained at Carnegie Mellon University.\n",
            "\n",
            "The Boston house-price data of Harrison, D. and Rubinfeld, D.L. 'Hedonic\n",
            "prices and the demand for clean air', J. Environ. Economics & Management,\n",
            "vol.5, 81-102, 1978.   Used in Belsley, Kuh & Welsch, 'Regression diagnostics\n",
            "...', Wiley, 1980.   N.B. Various transformations are used in the table on\n",
            "pages 244-261 of the latter.\n",
            "\n",
            "The Boston house-price data has been used in many machine learning papers that address regression\n",
            "problems.   \n",
            "     \n",
            ".. topic:: References\n",
            "\n",
            "   - Belsley, Kuh & Welsch, 'Regression diagnostics: Identifying Influential Data and Sources of Collinearity', Wiley, 1980. 244-261.\n",
            "   - Quinlan,R. (1993). Combining Instance-Based and Model-Based Learning. In Proceedings on the Tenth International Conference of Machine Learning, 236-243, University of Massachusetts, Amherst. Morgan Kaufmann.\n",
            "\n"
          ]
        },
        {
          "output_type": "stream",
          "name": "stderr",
          "text": [
            "/usr/local/lib/python3.7/dist-packages/sklearn/utils/deprecation.py:87: FutureWarning: Function load_boston is deprecated; `load_boston` is deprecated in 1.0 and will be removed in 1.2.\n",
            "\n",
            "    The Boston housing prices dataset has an ethical problem. You can refer to\n",
            "    the documentation of this function for further details.\n",
            "\n",
            "    The scikit-learn maintainers therefore strongly discourage the use of this\n",
            "    dataset unless the purpose of the code is to study and educate about\n",
            "    ethical issues in data science and machine learning.\n",
            "\n",
            "    In this special case, you can fetch the dataset from the original\n",
            "    source::\n",
            "\n",
            "        import pandas as pd\n",
            "        import numpy as np\n",
            "\n",
            "\n",
            "        data_url = \"http://lib.stat.cmu.edu/datasets/boston\"\n",
            "        raw_df = pd.read_csv(data_url, sep=\"\\s+\", skiprows=22, header=None)\n",
            "        data = np.hstack([raw_df.values[::2, :], raw_df.values[1::2, :2]])\n",
            "        target = raw_df.values[1::2, 2]\n",
            "\n",
            "    Alternative datasets include the California housing dataset (i.e.\n",
            "    :func:`~sklearn.datasets.fetch_california_housing`) and the Ames housing\n",
            "    dataset. You can load the datasets as follows::\n",
            "\n",
            "        from sklearn.datasets import fetch_california_housing\n",
            "        housing = fetch_california_housing()\n",
            "\n",
            "    for the California housing dataset and::\n",
            "\n",
            "        from sklearn.datasets import fetch_openml\n",
            "        housing = fetch_openml(name=\"house_prices\", as_frame=True)\n",
            "\n",
            "    for the Ames housing dataset.\n",
            "    \n",
            "  warnings.warn(msg, category=FutureWarning)\n"
          ]
        }
      ],
      "source": [
        "from sklearn.datasets import load_boston\n",
        "boston_data = load_boston()\n",
        "print(boston_data['DESCR']) #opis tych danych (DESCRIPTION)"
      ]
    },
    {
      "cell_type": "code",
      "execution_count": 117,
      "metadata": {
        "id": "5pzmF93MyNnZ"
      },
      "outputs": [],
      "source": [
        "d = boston_data['data']\n",
        "d2 = d[:, [2,5]] #wyciągamy tylko 2 cechy: INDUS, RM\n",
        "target = boston_data['target']"
      ]
    },
    {
      "cell_type": "markdown",
      "metadata": {
        "id": "uwvKMyH9yNna"
      },
      "source": [
        "Funkcja kosztu mierzy średnią różnicę pomiędzy przewidywaniem a rzeczywistą wartością. Istnieje wiele funkcji tego typu, jedna z najpopularniejszych ma postać:\n",
        "\n",
        "<center>\n",
        "$LF(y,t) = \\frac{1}{2N}\\sum_{i}(y^{i}-t^{i})^2$\n",
        "    \n",
        " \n",
        "\n",
        "W przypadku regresji liniowej 2 zmiennych:\n",
        "    \n",
        "<center>\n",
        "$LF(y,t) = \\frac{1}{2N}\\sum_{i}(w_1x_{1}^{i}+w_2x_{2}^{i}+w_0-t^{i})^2$"
      ]
    },
    {
      "cell_type": "code",
      "execution_count": 118,
      "metadata": {
        "id": "c3AfQZ9iyNna"
      },
      "outputs": [],
      "source": [
        "def loss_function(w1, w2, w0, X, t):\n",
        "  loss = 0\n",
        "  ix = 0\n",
        "\n",
        "  for x in X :\n",
        "    loss += (w1 * x[0] + w2 * x[1] + w0 - t[ix])**2\n",
        "    ix += 1\n",
        "\n",
        "  loss = loss / (2 * len(t))\n",
        "\n",
        "  return loss"
      ]
    },
    {
      "cell_type": "code",
      "execution_count": 119,
      "metadata": {
        "id": "b8fni1I2yNna",
        "outputId": "48ebede4-c276-47f8-80d7-3f834c153adb",
        "colab": {
          "base_uri": "https://localhost:8080/"
        }
      },
      "outputs": [
        {
          "output_type": "execute_result",
          "data": {
            "text/plain": [
              "2088.9192750474317"
            ]
          },
          "metadata": {},
          "execution_count": 119
        }
      ],
      "source": [
        "#przykladowe wywolanie\n",
        "loss_function(3, 8, -1, d2, target)"
      ]
    },
    {
      "cell_type": "code",
      "execution_count": 120,
      "metadata": {
        "id": "5UpPz9wKyNna",
        "outputId": "eef65578-2f50-48ed-88f1-4801af1f0d4b",
        "colab": {
          "base_uri": "https://localhost:8080/"
        }
      },
      "outputs": [
        {
          "output_type": "execute_result",
          "data": {
            "text/plain": [
              "20.61716585276679"
            ]
          },
          "metadata": {},
          "execution_count": 120
        }
      ],
      "source": [
        "#przykladowe wywolanie\n",
        "loss_function(-0.5, 8, -23, d2, target) #lepiej"
      ]
    },
    {
      "cell_type": "markdown",
      "metadata": {
        "id": "0ICI1ER8yNna"
      },
      "source": [
        "<h4> Zadanie1: Uzupełnij definicję powyższej funkcji."
      ]
    },
    {
      "cell_type": "code",
      "execution_count": 121,
      "metadata": {
        "id": "5UTZE147yNnb"
      },
      "outputs": [],
      "source": [
        "from sympy import *\n",
        "def update_weights(w1, w2, w0, X, t, eta):\n",
        "  old_weights = [w1, w2, w0]\n",
        "  weights = [0, 0, 0]\n",
        "  length = len(t)\n",
        "\n",
        "  ix = 0\n",
        "  for x in X :\n",
        "    common = 2 * (w1 * x[0] + w2 * x[1] + w0 - t[ix])\n",
        "    weights[0] += x[0] * common\n",
        "    weights[1] += x[1] * common\n",
        "    weights[2] += common\n",
        "    ix += 1\n",
        "\n",
        "  for ix in range(3):\n",
        "    weights[ix] = weights[ix] / (2 * length)\n",
        "    weights[ix] = old_weights[ix] - eta * weights[ix]\n",
        "\n",
        "  return weights"
      ]
    },
    {
      "cell_type": "code",
      "execution_count": 122,
      "metadata": {
        "id": "kyXTSfBWyNnb",
        "outputId": "ccace98d-48c0-49bd-be0f-d368722f2758",
        "colab": {
          "base_uri": "https://localhost:8080/"
        }
      },
      "outputs": [
        {
          "output_type": "execute_result",
          "data": {
            "text/plain": [
              "[2.1737704910276685, 7.628145982577075, -1.060154604743083]"
            ]
          },
          "metadata": {},
          "execution_count": 122
        }
      ],
      "source": [
        "#przykladowe wywolanie\n",
        "update_weights(3, 8, -1, d2, target, 0.001)"
      ]
    },
    {
      "cell_type": "markdown",
      "metadata": {
        "id": "bpNl_Q4myNnb"
      },
      "source": [
        "<h4> Zadanie2: Uzupełnij definicję powyższej funkcji."
      ]
    },
    {
      "cell_type": "markdown",
      "metadata": {
        "id": "2fca9SmbyNnb"
      },
      "source": [
        "<h4> Zadanie3: Celem jest zbudowanie modelu regresji liniowej przeiwdującej $target$ w oparciu o $d2$. Wystartuj z początkowych parametrów 1, 1 oraz 1. Przyjmując $\\eta=0.001$ wykonaj 1000 aktualizacji tych parametrów na podstawie metody gradientu. Narysuj zależność funkcji kosztu od numeru iteracji. Wykonaj analogiczne obliczenia dla $\\eta=0.01$ oraz $\\eta=0.00001$. Skomentuj otrzymane wyniki."
      ]
    },
    {
      "cell_type": "code",
      "source": [
        "import matplotlib.pyplot as plt"
      ],
      "metadata": {
        "id": "JVNDg484J851"
      },
      "execution_count": 123,
      "outputs": []
    },
    {
      "cell_type": "code",
      "source": [
        "def make_plot (eta) : \n",
        "  list_ = [[i for i in range(1001)],[]]\n",
        "  list_[1] = ([loss_function(1, 1, 1, d2, target)]) \n",
        "  weights = [1,1,1]\n",
        "  for x in range (1000):\n",
        "    weights = update_weights(weights[0], weights[1], weights[2], d2, target, eta)\n",
        "    list_[1].append(loss_function(weights[0], weights[1], weights[2], d2, target)) \n",
        "\n",
        "  plt.xlabel(\"iteration\")\n",
        "  plt.ylabel(\"cost function\")\n",
        "  plt.title(\"cost function across iterations\")\n",
        "  plt.plot(list_[0],list_[1])\n",
        "  plt.show()\n",
        "  print(weights)"
      ],
      "metadata": {
        "id": "2rWkkQ3ezlNT"
      },
      "execution_count": 134,
      "outputs": []
    },
    {
      "cell_type": "code",
      "source": [
        "make_plot(0.001)"
      ],
      "metadata": {
        "id": "3rqb9_pGKRt3",
        "outputId": "61c3d475-8a06-4ae9-84d1-09f1c4a93abd",
        "colab": {
          "base_uri": "https://localhost:8080/",
          "height": 313
        }
      },
      "execution_count": 135,
      "outputs": [
        {
          "output_type": "display_data",
          "data": {
            "text/plain": [
              "<Figure size 432x288 with 1 Axes>"
            ],
            "image/png": "[encoded data removed]"
          },
          "metadata": {
            "needs_background": "light"
          }
        },
        {
          "output_type": "stream",
          "name": "stdout",
          "text": [
            "[-0.5240516597773193, 4.3480921568559605, 1.2535642605913597]\n"
          ]
        }
      ]
    },
    {
      "cell_type": "markdown",
      "source": [
        "Przy kroku 0.001, minimum osiągane jest po około 200 iteracjach.\n"
      ],
      "metadata": {
        "id": "5nikOau5K9XK"
      }
    },
    {
      "cell_type": "code",
      "source": [
        "make_plot(0.01) # ylim(0,1000)"
      ],
      "metadata": {
        "id": "hli3JIU2KVqe",
        "outputId": "9f677484-b3b5-49ba-d5dc-56034447c02a",
        "colab": {
          "base_uri": "https://localhost:8080/",
          "height": 295
        }
      },
      "execution_count": 112,
      "outputs": [
        {
          "output_type": "display_data",
          "data": {
            "text/plain": [
              "<Figure size 432x288 with 1 Axes>"
            ],
            "image/png": "[encoded data removed]"
          },
          "metadata": {
            "needs_background": "light"
          }
        }
      ]
    },
    {
      "cell_type": "code",
      "source": [
        "make_plot(0.01)"
      ],
      "metadata": {
        "id": "LVSWn09c4fpY",
        "outputId": "59cfd5ac-df68-49c1-9dc4-7661ba989d9a",
        "colab": {
          "base_uri": "https://localhost:8080/",
          "height": 313
        }
      },
      "execution_count": 136,
      "outputs": [
        {
          "output_type": "display_data",
          "data": {
            "text/plain": [
              "<Figure size 432x288 with 1 Axes>"
            ],
            "image/png": "[encoded data removed]"
          },
          "metadata": {
            "needs_background": "light"
          }
        },
        {
          "output_type": "stream",
          "name": "stdout",
          "text": [
            "[189.2380160643966, 85.48603274984441, 12.549821709960579]\n"
          ]
        }
      ]
    },
    {
      "cell_type": "markdown",
      "source": [
        "Funkcja oscyluje wokół minimum przy zbyt dużym kroku i tym samym w pewnym momencie wypada poza okolicę minimum lokalnego.\n"
      ],
      "metadata": {
        "id": "vdDVk-BZK-Gz"
      }
    },
    {
      "cell_type": "code",
      "source": [
        "make_plot(0.00001)"
      ],
      "metadata": {
        "id": "OfPhdnCSKVtC",
        "outputId": "37d7d00b-694f-4654-d860-b62b4762d810",
        "colab": {
          "base_uri": "https://localhost:8080/",
          "height": 313
        }
      },
      "execution_count": 137,
      "outputs": [
        {
          "output_type": "display_data",
          "data": {
            "text/plain": [
              "<Figure size 432x288 with 1 Axes>"
            ],
            "image/png": "[encoded data removed]"
          },
          "metadata": {
            "needs_background": "light"
          }
        },
        {
          "output_type": "stream",
          "name": "stdout",
          "text": [
            "[0.7876743224351483, 1.3296083328779649, 1.043574995600172]\n"
          ]
        }
      ]
    },
    {
      "cell_type": "markdown",
      "source": [
        "Przy kroku 0.00001, minimum nie zostaje osiągnięte po 1000 iteracji."
      ],
      "metadata": {
        "id": "RrCzZhduK-uZ"
      }
    },
    {
      "cell_type": "markdown",
      "metadata": {
        "id": "TOcW-2uuyNnb"
      },
      "source": [
        "<h4> Zadanie4: Zazwyczaj nie wiemy z góry ile razy należy zmodyfikować wagi - kiedy dalsza aktualizacja nie przynosi efektu. Jednym z rozwiązań tego problemu jest sprawdzenie o jaki procent zmieniają sie aktualne wagi. Przyjmijmy, że jeżeli zmiana funkcji kosztu jest mniejsza niż 0,1% to przerywamy działanie. Ile kroków należałoby wykonać aby zrealizować poprzednie zadanie?"
      ]
    },
    {
      "cell_type": "code",
      "source": [
        "import sys\n",
        "weights = [1,1,1]\n",
        "reference = loss_function(weights[0], weights[1], weights[2], d2, target)\n",
        "counter, change = 0 , 1\n",
        "while change > 0.001 :\n",
        "  weights = update_weights(weights[0], weights[1], weights[2], d2, target, 0.001)\n",
        "  LF = loss_function(weights[0], weights[1], weights[2], d2, target)\n",
        "  change = abs(LF - reference) / LF\n",
        "  counter += 1\n",
        "  reference = LF\n",
        "\n",
        "print (counter)\n",
        "\n"
      ],
      "metadata": {
        "id": "4BTGPjNMznmq",
        "outputId": "687b0ae2-269f-4cc7-95f8-8e07a0a773fe",
        "colab": {
          "base_uri": "https://localhost:8080/"
        }
      },
      "execution_count": 128,
      "outputs": [
        {
          "output_type": "stream",
          "name": "stdout",
          "text": [
            "192\n"
          ]
        }
      ]
    },
    {
      "cell_type": "markdown",
      "source": [
        "Należałoby wykonać 192 kroki."
      ],
      "metadata": {
        "id": "PPEAilyCQRjT"
      }
    },
    {
      "cell_type": "markdown",
      "metadata": {
        "id": "Q0PJWBRByNnb"
      },
      "source": [
        "Oczywiście w Pythonie istnieje implementacja metody regresji liniowej"
      ]
    },
    {
      "cell_type": "code",
      "execution_count": 129,
      "metadata": {
        "id": "QG2wpt3HyNnb"
      },
      "outputs": [],
      "source": [
        "from sklearn.linear_model import LinearRegression"
      ]
    },
    {
      "cell_type": "code",
      "execution_count": 130,
      "metadata": {
        "id": "us6PANI3yNnb"
      },
      "outputs": [],
      "source": [
        "model = LinearRegression()\n",
        "model.fit(d2, target);"
      ]
    },
    {
      "cell_type": "code",
      "execution_count": 131,
      "metadata": {
        "id": "Lrnof7JCyNnb",
        "outputId": "5b25b89f-01c1-46c9-e26b-b7bbc9301c7a",
        "colab": {
          "base_uri": "https://localhost:8080/"
        }
      },
      "outputs": [
        {
          "output_type": "execute_result",
          "data": {
            "text/plain": [
              "array([-0.33471389,  7.82205511])"
            ]
          },
          "metadata": {},
          "execution_count": 131
        }
      ],
      "source": [
        "model.coef_ #wspolczynnki dla zmiennych"
      ]
    },
    {
      "cell_type": "code",
      "execution_count": 132,
      "metadata": {
        "id": "cMbpwxVIyNnb",
        "outputId": "52b7d3a2-47df-4990-94f0-a54ab609ba17",
        "colab": {
          "base_uri": "https://localhost:8080/"
        }
      },
      "outputs": [
        {
          "output_type": "execute_result",
          "data": {
            "text/plain": [
              "-22.89831572922507"
            ]
          },
          "metadata": {},
          "execution_count": 132
        }
      ],
      "source": [
        "model.intercept_ #wyraz wolny"
      ]
    },
    {
      "cell_type": "code",
      "source": [
        "[-0.5240516597773193, 4.3480921568559605, 1.2535642605913597]"
      ],
      "metadata": {
        "id": "eotVvL5u1uYD",
        "outputId": "87d2e729-0e84-4442-d542-191370b75107",
        "colab": {
          "base_uri": "https://localhost:8080/"
        }
      },
      "execution_count": 138,
      "outputs": [
        {
          "output_type": "execute_result",
          "data": {
            "text/plain": [
              "[-0.5240516597773193, 4.3480921568559605, 1.2535642605913597]"
            ]
          },
          "metadata": {},
          "execution_count": 138
        }
      ]
    },
    {
      "cell_type": "markdown",
      "metadata": {
        "id": "amHgS07ZyNnb"
      },
      "source": [
        "<h4> Zadanie5: Porównaj te parametry z otrzymanymi z Zadania3. Z czego może wynikać ta różnica?"
      ]
    },
    {
      "cell_type": "markdown",
      "source": [
        "Współczynniki 1 i 2 mają zbliżone wartośći, -0,33 i -0,52 oraz 7,8 i 4,34, różnica wynika ze stosowania różnych modeli i sporej różnicy 1.3 w stosowanym przez nas modelu, a -22.9 w zaimplementowanym w sklearn modelu wartości wyrazu zerowego."
      ],
      "metadata": {
        "id": "VgxCBTh1g1sX"
      }
    },
    {
      "cell_type": "markdown",
      "metadata": {
        "id": "gySuHc-ryNnc"
      },
      "source": [
        "<h4> Zadanie6: Rozważ jeszcze raz dane $d2/target$. \n",
        "    \n",
        "- Podziel je na trzy podzbiory - treningowy (60%), walidacyjny (20%) oraz testowy (20%); najlepiej zdefiniuj odpowiednią funkcję. \n",
        "- Przetestuj różne wartości parametrów $\\eta$ na zbiorze walidacyjnym, na tej podstawie wybierz jeden, który użyjesz do wytrenowania parametrów modelu na zbiórze treningowym. \n",
        "- Na końcu wyznacz wartość funkcji kosztu na zbiorze testowym. Skomentuj otrzymane wyniki."
      ]
    },
    {
      "cell_type": "code",
      "source": [
        "from sklearn.model_selection import train_test_split\n",
        "\n",
        "X_train, X_test, y_train, y_test = train_test_split(d2, target, test_size=0.4, random_state=42)\n",
        "X2_validate, X2_test, y2_validate, y2_test = train_test_split(X_test, y_test, test_size=0.5, random_state=42)\n"
      ],
      "metadata": {
        "id": "hgNxh4sk6F7Z"
      },
      "execution_count": 158,
      "outputs": []
    },
    {
      "cell_type": "code",
      "source": [
        "w1, w2, w0 = 1, 1, 1\n",
        "for i in range(10000):\n",
        "    w1, w2, w0 = update_weights(w1, w2, w0, X2_validate, y2_validate, 0.0065)\n",
        "print(w1, w2, w0)"
      ],
      "metadata": {
        "id": "EbbxRoOZiyaE",
        "outputId": "9d342396-ea9c-4473-ee0d-1ba16ecad3f6",
        "colab": {
          "base_uri": "https://localhost:8080/"
        }
      },
      "execution_count": 159,
      "outputs": [
        {
          "output_type": "stream",
          "name": "stdout",
          "text": [
            "-0.47977834001676806 5.1627540969701835 -4.504380579629465\n"
          ]
        }
      ]
    },
    {
      "cell_type": "markdown",
      "source": [
        "Po wypróbowaniu ok. 10 wartośći eta, 0.0065 okazała się najlepsza."
      ],
      "metadata": {
        "id": "UtdM7yQmnKlC"
      }
    },
    {
      "cell_type": "code",
      "source": [
        "w1, w2, w0 = 1, 1, 1\n",
        "for i in range(10000):\n",
        "    w1, w2, w0 = update_weights(w1, w2, w0, X_train, y_train, 0.0065)\n",
        "print(w1, w2, w0)"
      ],
      "metadata": {
        "id": "KaWODR5IiwFW",
        "outputId": "94a8483c-e4e0-42ee-8009-aa7e030f57ca",
        "colab": {
          "base_uri": "https://localhost:8080/"
        }
      },
      "execution_count": 160,
      "outputs": [
        {
          "output_type": "stream",
          "name": "stdout",
          "text": [
            "-0.4026463975152746 5.889706043608482 -9.681275916159734\n"
          ]
        }
      ]
    },
    {
      "cell_type": "markdown",
      "source": [
        "Następnie obliczono wartości współczynników na zbiorze treningowym."
      ],
      "metadata": {
        "id": "RuF4c7UYnUdm"
      }
    },
    {
      "cell_type": "code",
      "source": [
        "LF = loss_function(-0.4026463975, 5.8897060436, -9.6812759162, X_test, y_test)"
      ],
      "metadata": {
        "id": "6r-Y7iu0mhyG"
      },
      "execution_count": 161,
      "outputs": []
    },
    {
      "cell_type": "code",
      "source": [
        "LF"
      ],
      "metadata": {
        "id": "JufP_JVWm7fG",
        "outputId": "f8a003d0-1303-486b-f133-a45c4d594c3c",
        "colab": {
          "base_uri": "https://localhost:8080/"
        }
      },
      "execution_count": 162,
      "outputs": [
        {
          "output_type": "execute_result",
          "data": {
            "text/plain": [
              "17.731422529829707"
            ]
          },
          "metadata": {},
          "execution_count": 162
        }
      ]
    },
    {
      "cell_type": "markdown",
      "source": [
        "Wartość loss function obliczona na zbiorze treningowym wynosi ok. 17.7314, co jest dość dobrym wynikiem, biorąć pod uwagę, że wcześniej wartość ta osiągała minimum przy wartości ok. 25, a im mniejsza wartość funkcji kosztu, tym lepiej."
      ],
      "metadata": {
        "id": "MEVUi-s0n991"
      }
    },
    {
      "cell_type": "code",
      "source": [],
      "metadata": {
        "id": "csp3bh4Cn-5l"
      },
      "execution_count": null,
      "outputs": []
    }
  ],
  "metadata": {
    "kernelspec": {
      "display_name": "Python 3",
      "language": "python",
      "name": "python3"
    },
    "language_info": {
      "codemirror_mode": {
        "name": "ipython",
        "version": 3
      },
      "file_extension": ".py",
      "mimetype": "text/x-python",
      "name": "python",
      "nbconvert_exporter": "python",
      "pygments_lexer": "ipython3",
      "version": "3.8.5"
    },
    "colab": {
      "provenance": []
    }
  },
  "nbformat": 4,
  "nbformat_minor": 0
}